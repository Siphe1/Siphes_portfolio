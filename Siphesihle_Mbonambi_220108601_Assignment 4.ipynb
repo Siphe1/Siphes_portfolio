{
 "cells": [
  {
   "cell_type": "markdown",
   "id": "f294215b",
   "metadata": {},
   "source": [
    "## Introduction\n",
    "I Name:Siphesihle Mbonambi Student No: 220108601, confirm that by submitting this document, that the solutions in this notebook are a result of my own work. \n",
    "\n",
    "**AI generated code will be subject to a mark of 0.**\n",
    "\n",
    "Submit a Python notebook with your name surname_student number_Assignment 1\n",
    "\n",
    "DUE 9 June 2024, 23:59\n",
    " \n",
    "WEIGHTING IS 50% of Course Mark "
   ]
  },
  {
   "cell_type": "markdown",
   "id": "7305b55d",
   "metadata": {},
   "source": [
    "## Movielens Project\n",
    "\n",
    "The goal of this MovieLens Project is to create a movie recommendation model able to predict movie ratings with a root mean squared error (RMSE) of less than 0.86490 compared to actual movie ratings. Data is sourced from the MovieLens dataset and divided into two datasets, each containing the variables userId, movieId, rating, timestamp, title, and genres:\n",
    "\n",
    "•\ttrain, with approximately 9 million observations.\n",
    "\n",
    "•\tvalidation, with about 1 million observations.\n",
    "\n"
   ]
  },
  {
   "cell_type": "markdown",
   "id": "e71f8474",
   "metadata": {},
   "source": [
    "## Download the dataset and split"
   ]
  },
  {
   "cell_type": "code",
   "execution_count": null,
   "id": "68c278c5",
   "metadata": {},
   "outputs": [],
   "source": [
    "import pandas as pd\n",
    "import numpy as np\n",
    "from sklearn.model_selection import train_test_split\n",
    "import requests\n",
    "from io import BytesIO\n",
    "from zipfile import ZipFile\n",
    "\n",
    "# Download movielens \n",
    "\n",
    "response = requests.get(\"https://files.grouplens.org/datasets/movielens/ml-10m.zip\")\n",
    "zip_file = ZipFile(BytesIO(response.content))\n",
    "zip_file.extractall('data/')  \n",
    "\n",
    "# Read and process ratings \n",
    "ratings = pd.read_csv('data/ml-10M100K/ratings.dat', delimiter='::', engine='python',\n",
    "                      names=['userId', 'movieId', 'rating', 'timestamp'], header=None)\n",
    "\n",
    "# Read and process movies \n",
    "movies = pd.read_csv('data/ml-10M100K/movies.dat', delimiter='::', engine='python',\n",
    "                     names=['movieId', 'title', 'genres'], header=None)\n",
    "\n",
    "# Merge ratings and movies \n",
    "movielens = pd.merge(ratings, movies, on='movieId')\n",
    "\n",
    "# Create a validation set, which is 10% MovieLens dataset\n",
    "train, validation = train_test_split(movielens, test_size=0.1, random_state=1)\n",
    "\n",
    "# Ensure userId and movieId in the validation set are also in the train set\n",
    "validation = validation[validation['movieId'].isin(train['movieId']) & validation['userId'].isin(train['userId'])]\n",
    "\n",
    "# Add back any removed rows into the training set\n",
    "removed = validation[~(validation['movieId'].isin(train['movieId']) & validation['userId'].isin(train['userId']))]\n",
    "train = pd.concat([train, removed])\n",
    "\n",
    "# Clean up \n",
    "try:\n",
    "    zip_file.close()\n",
    "except:\n",
    "    pass\n",
    "\n",
    "print(\"Setup complete.\")"
   ]
  },
  {
   "cell_type": "code",
   "execution_count": null,
   "id": "14e38393",
   "metadata": {},
   "outputs": [],
   "source": [
    "import pandas as pd\n",
    "import numpy as np\n",
    "from sklearn.model_selection import train_test_split\n",
    "import requests\n",
    "from io import BytesIO\n",
    "from zipfile import ZipFile\n",
    "\n",
    "# Download movielens\n",
    "\n",
    "response = requests.get(\"https://files.grouplens.org/datasets/movielens/ml-10m.zip\")\n",
    "zip_file = ZipFile(BytesIO(response.content))\n",
    "zip_file.extractall('data/')\n",
    "\n",
    "# Read and process ratings\n",
    "ratings = pd.read_csv('data/ml-10M100K/ratings.dat', delimiter='::', engine='python',\n",
    "                      names=['userId', 'movieId', 'rating', 'timestamp'], header=None)\n",
    "\n",
    "# Read and process movies\n",
    "movies = pd.read_csv('data/ml-10M100K/movies.dat', delimiter='::', engine='python',\n",
    "                     names=['movieId', 'title', 'genres'], header=None)\n",
    "\n",
    "# Merge ratings and movies\n",
    "movielens = pd.merge(ratings, movies, on='movieId')\n",
    "\n",
    "# Create a validation set, which is 10% MovieLens dataset\n",
    "train, validation = train_test_split(movielens, test_size=0.1, random_state=1)\n",
    "\n",
    "# Ensure userId and movieId in the validation set are also in the train set\n",
    "validation = validation[validation['movieId'].isin(train['movieId']) & validation['userId'].isin(train['userId'])]\n",
    "\n",
    "# Add back any removed rows into the training set\n",
    "removed = validation[~(validation['movieId'].isin(train['movieId']) & validation['userId'].isin(train['userId']))]\n",
    "train = pd.concat([train, removed])\n",
    "\n",
    "# Clean up\n",
    "try:\n",
    "    zip_file.close()\n",
    "except:\n",
    "    pass\n",
    "\n",
    "print(\"Setup complete.\")"
   ]
  },
  {
   "cell_type": "code",
   "execution_count": null,
   "id": "0a42c4f4",
   "metadata": {},
   "outputs": [],
   "source": [
    "## Section 1: Data Exploration (15 marks)"
   ]
  },
  {
   "cell_type": "markdown",
   "id": "808440ec",
   "metadata": {},
   "source": [
    "1.\tHow many rows and columns are there in the movielens dataset? (3 marks)"
   ]
  },
  {
   "cell_type": "code",
   "execution_count": null,
   "id": "761de44a",
   "metadata": {},
   "outputs": [],
   "source": [
    "movielens.shape"
   ]
  },
  {
   "cell_type": "markdown",
   "id": "6d9f0335",
   "metadata": {},
   "source": [
    "2. How many zeros were given as ratings in the movielens dataset? (2 marks)"
   ]
  },
  {
   "cell_type": "code",
   "execution_count": null,
   "id": "6a94848f",
   "metadata": {
    "scrolled": true
   },
   "outputs": [],
   "source": [
    "movielens[movielens['rating']==0].shape[0]"
   ]
  },
  {
   "cell_type": "markdown",
   "id": "5f7dfa55",
   "metadata": {},
   "source": [
    "3.\tHow many threes were given as ratings in the movielens dataset? (2 marks)"
   ]
  },
  {
   "cell_type": "code",
   "execution_count": null,
   "id": "fd568fa1",
   "metadata": {},
   "outputs": [],
   "source": [
    "movielens[movielens['rating']==3.0].shape[0]"
   ]
  },
  {
   "cell_type": "markdown",
   "id": "4ee3c3d3",
   "metadata": {},
   "source": [
    "4. How many different movies are in the movielens dataset? (2 marks)"
   ]
  },
  {
   "cell_type": "code",
   "execution_count": null,
   "id": "ace3a588",
   "metadata": {},
   "outputs": [],
   "source": [
    "movielens['movieId'].nunique()"
   ]
  },
  {
   "cell_type": "markdown",
   "id": "b39feb0a",
   "metadata": {},
   "source": [
    "5.\tHow many different users are in the movielens dataset? (2 marks)"
   ]
  },
  {
   "cell_type": "code",
   "execution_count": null,
   "id": "b7be6b09",
   "metadata": {},
   "outputs": [],
   "source": [
    "movielens['userId'].nunique()"
   ]
  },
  {
   "cell_type": "markdown",
   "id": "9346af77",
   "metadata": {},
   "source": [
    "6.\tWhich movie has the greatest number of ratings? (5 marks)"
   ]
  },
  {
   "cell_type": "code",
   "execution_count": null,
   "id": "87ac05e1",
   "metadata": {},
   "outputs": [],
   "source": [
    "x = movielens['movieId'].value_counts()\n",
    "y=x.idxmax()\n",
    "z=x.max()\n",
    "print(f'Movie iD {y}')\n",
    "print(f'Number of ratings {z}')"
   ]
  },
  {
   "cell_type": "markdown",
   "id": "3971a4a6",
   "metadata": {},
   "source": [
    "## Section 2"
   ]
  },
  {
   "cell_type": "code",
   "execution_count": null,
   "id": "c42f86c3",
   "metadata": {},
   "outputs": [],
   "source": [
    "import pandas as pd\n",
    "import numpy as np\n",
    "import seaborn as sns\n",
    "import matplotlib.pyplot as plt\n",
    "from sklearn.model_selection import train_test_split\n",
    "from sklearn.linear_model import LinearRegression\n",
    "from sklearn.metrics import mean_squared_error\n",
    "from sklearn.preprocessing import StandardScaler\n",
    "from sklearn.impute import SimpleImputer\n",
    "from sklearn import preprocessing "
   ]
  },
  {
   "cell_type": "code",
   "execution_count": null,
   "id": "03baf4d5",
   "metadata": {},
   "outputs": [],
   "source": [
    "# Checked the first 5 rows to haev an idea of what the data looks like\n",
    "movielens.head()"
   ]
  },
  {
   "cell_type": "code",
   "execution_count": null,
   "id": "f6366630",
   "metadata": {},
   "outputs": [],
   "source": [
    "# CHekced the info of the dataset to also find out the dtype of each column\n",
    "movielens.info()"
   ]
  },
  {
   "cell_type": "code",
   "execution_count": null,
   "id": "c4bc492d",
   "metadata": {},
   "outputs": [],
   "source": [
    "# Wanted to find out the basics stats such as your mean, std, min and max values\n",
    "movielens.describe()"
   ]
  },
  {
   "cell_type": "code",
   "execution_count": null,
   "id": "9a0e62ae",
   "metadata": {},
   "outputs": [],
   "source": [
    "# Checked for any null values\n",
    "movielens.isnull().sum()"
   ]
  },
  {
   "cell_type": "code",
   "execution_count": null,
   "id": "40ec2b14",
   "metadata": {},
   "outputs": [],
   "source": [
    "# Checked for any duplicates\n",
    "movielens.duplicated().sum()"
   ]
  },
  {
   "cell_type": "code",
   "execution_count": null,
   "id": "b25c8d2e",
   "metadata": {},
   "outputs": [],
   "source": [
    "# Changed the timestamp column to dateTime\n",
    "movielens['timestamp'] = pd.to_datetime(movielens['timestamp'], unit = 's')"
   ]
  },
  {
   "cell_type": "code",
   "execution_count": null,
   "id": "11f14471",
   "metadata": {},
   "outputs": [],
   "source": [
    "movielens['year']=movielens['timestamp'].dt.year\n",
    "movielens['month']=movielens['timestamp'].dt.month"
   ]
  },
  {
   "cell_type": "code",
   "execution_count": null,
   "id": "4e442df4",
   "metadata": {},
   "outputs": [],
   "source": [
    "movielens"
   ]
  },
  {
   "cell_type": "code",
   "execution_count": null,
   "id": "f990e0c0",
   "metadata": {},
   "outputs": [],
   "source": [
    "#Visualized the distribution of the movie ratings\n",
    "x=movielens['rating'].value_counts().sort_index()\n",
    "plt.bar(x.index, x.values, color='blue')\n",
    "plt.xlabel('Rating')\n",
    "plt.ylabel('Count of Ratings')\n",
    "plt.title('Movie Rating Distribtuion')\n",
    "plt.show()"
   ]
  },
  {
   "cell_type": "code",
   "execution_count": null,
   "id": "c76bcf7b",
   "metadata": {},
   "outputs": [],
   "source": [
    "#Checked which movie has the most rating\n",
    "movielens['title'].mode()"
   ]
  },
  {
   "cell_type": "code",
   "execution_count": null,
   "id": "bcab3f49",
   "metadata": {},
   "outputs": [],
   "source": [
    "# Checked which user ID has done the most ratings\n",
    "movielens['userId'].mode()"
   ]
  },
  {
   "cell_type": "code",
   "execution_count": null,
   "id": "2008f92e",
   "metadata": {},
   "outputs": [],
   "source": [
    "# Checked which movie has the most 5 star ratings\n",
    "q=movielens[movielens['rating'] ==5]\n",
    "fivestar= q['title'].value_counts()\n",
    "moststar=fivestar.idxmax()\n",
    "moststarcount=fivestar.max()\n",
    "\n",
    "print(moststar)\n",
    "print(moststarcount)"
   ]
  },
  {
   "cell_type": "code",
   "execution_count": null,
   "id": "80812ec0",
   "metadata": {},
   "outputs": [],
   "source": [
    "# Checked with movie has the worst ratings\n",
    "s=movielens[movielens['rating'] ==0.5]\n",
    "onestar= s['title'].value_counts()\n",
    "leaststar=onestar.idxmax()\n",
    "leaststarcount=fivestar.max()\n",
    "\n",
    "print(leaststar)\n",
    "print(leaststarcount)"
   ]
  },
  {
   "cell_type": "code",
   "execution_count": null,
   "id": "3f5a3db6",
   "metadata": {},
   "outputs": [],
   "source": [
    "# Checked the average rating of the movie with the most ratings\n",
    "x = movielens[movielens['movieId']== 296]\n",
    "x['rating'].mean()"
   ]
  },
  {
   "cell_type": "code",
   "execution_count": null,
   "id": "c74d8d81",
   "metadata": {},
   "outputs": [],
   "source": [
    "# Checked how many movies had a rating of 0.5\n",
    "g= movielens[movielens['rating']<1]\n",
    "g.info()"
   ]
  },
  {
   "cell_type": "code",
   "execution_count": null,
   "id": "fcea8284",
   "metadata": {},
   "outputs": [],
   "source": [
    "# Checked for any outliers in rating\n",
    "plt.figure(figsize=(5,5))\n",
    "sns.boxplot(y=movielens['rating'])\n",
    "plt.show()"
   ]
  },
  {
   "cell_type": "markdown",
   "id": "22c066e3",
   "metadata": {},
   "source": [
    "# Linear Regression Model\n"
   ]
  },
  {
   "cell_type": "code",
   "execution_count": null,
   "id": "321c3bd4",
   "metadata": {},
   "outputs": [],
   "source": [
    "movielens_copy = movielens.copy()"
   ]
  },
  {
   "cell_type": "code",
   "execution_count": null,
   "id": "b2f6013e",
   "metadata": {},
   "outputs": [],
   "source": [
    "# Calculating the Correlation/ Made each of the genres a variable\n",
    "genre_dumie = movielens_copy['genres'].str.get_dummies('|')\n",
    "movielens_copy = pd.concat([movielens, genre_dumie], axis=1)"
   ]
  },
  {
   "cell_type": "code",
   "execution_count": null,
   "id": "172ad6bc",
   "metadata": {},
   "outputs": [],
   "source": [
    "# Used the label encoder from scikit-learn to turn the categorical values in title and genre to numerical labels\n",
    "label_encoder = preprocessing.LabelEncoder()\n",
    "\n",
    "movielens_copy['title'] = label_encoder.fit_transform(movielens_copy['title'])\n",
    "\n",
    "movielens_copy['genres'] = label_encoder.fit_transform(movielens_copy['genres'])"
   ]
  },
  {
   "cell_type": "code",
   "execution_count": null,
   "id": "bfbf4375",
   "metadata": {},
   "outputs": [],
   "source": [
    "# I then plotted the heat map\n",
    "plt.figure(figsize=(17,8))\n",
    "dataplot = sns.heatmap(movielens_copy.corr(), cmap=\"YlGnBu\", annot=True) "
   ]
  },
  {
   "cell_type": "markdown",
   "id": "6ccce213",
   "metadata": {},
   "source": [
    "# Building the model"
   ]
  },
  {
   "cell_type": "code",
   "execution_count": null,
   "id": "c589f858",
   "metadata": {},
   "outputs": [],
   "source": [
    "import pandas as pd\n",
    "import numpy as np\n",
    "from sklearn.model_selection import train_test_split\n",
    "from sklearn.preprocessing import StandardScaler\n",
    "from sklearn.linear_model import LinearRegression\n",
    "from sklearn.metrics import mean_squared_error\n",
    "from sklearn.impute import SimpleImputer\n"
   ]
  },
  {
   "cell_type": "code",
   "execution_count": null,
   "id": "0d4305f9",
   "metadata": {},
   "outputs": [],
   "source": [
    "# Calculated the 25th percentile and 75th percentile for rating as there are outliers\n",
    "q1 = movielens['rating'].quantile(0.25)\n",
    "q3 = movielens['rating'].quantile(0.75)\n",
    "\n",
    "# I then Calculated the IQR\n",
    "iqr = q3 - q1\n",
    "\n",
    "# I then determined the outlier bounds\n",
    "lower = q1 - 1.5 * iqr\n",
    "upper = q3 + 1.5 * iqr\n",
    "\n",
    "# Identify outliers\n",
    "outliers = movielens[(movielens['rating'] < lower) | (movielens['rating'] > upper)]\n",
    "\n",
    "movielens = movielens[(movielens['rating'] >= lower) & (movielens['rating'] <= upper)]"
   ]
  },
  {
   "cell_type": "code",
   "execution_count": null,
   "id": "f0e96207",
   "metadata": {},
   "outputs": [],
   "source": [
    "# Went on to define the initial features and target variable\n",
    "original_columns = ['movieId', 'userId']\n",
    "target_variable = 'rating'"
   ]
  },
  {
   "cell_type": "code",
   "execution_count": null,
   "id": "bd5ae018",
   "metadata": {},
   "outputs": [],
   "source": [
    "# Added additional features for movieId such as mean, median, mode\n",
    "movie_stats = movielens.groupby('movieId')['rating'].agg(['mean', 'median', 'std', 'count']).reset_index()\n",
    "movie_stats.columns = ['movieId', 'movie_mean_rating', 'movie_median_rating', 'movie_std_rating', 'movie_rating_count']\n"
   ]
  },
  {
   "cell_type": "code",
   "execution_count": null,
   "id": "1e9dc1bc",
   "metadata": {},
   "outputs": [],
   "source": [
    "# Added additional features for userId too\n",
    "user_stats = movielens.groupby('userId')['rating'].agg(['mean', 'median', 'std', 'count']).reset_index()\n",
    "user_stats.columns = ['userId', 'user_mean_rating', 'user_median_rating', 'user_std_rating', 'user_rating_count']\n"
   ]
  },
  {
   "cell_type": "code",
   "execution_count": null,
   "id": "03b71c28",
   "metadata": {},
   "outputs": [],
   "source": [
    "# I then merged these features for userId and movieId to the original dataset\n",
    "movielens = pd.merge(movielens, movie_stats, on='movieId')\n",
    "movielens = pd.merge(movielens, user_stats, on='userId')\n"
   ]
  },
  {
   "cell_type": "code",
   "execution_count": null,
   "id": "161533ae",
   "metadata": {},
   "outputs": [],
   "source": [
    "# Combined all the features that I would be using \n",
    "new_columns = original_columns + ['movie_mean_rating', 'movie_median_rating', 'movie_std_rating', 'movie_rating_count',\n",
    "                                  'user_mean_rating', 'user_median_rating', 'user_std_rating', 'user_rating_count']\n"
   ]
  },
  {
   "cell_type": "code",
   "execution_count": null,
   "id": "c1cec23f",
   "metadata": {},
   "outputs": [],
   "source": [
    "# Chose the columns that would be required for the model\n",
    "X = movielens[new_columns]\n",
    "y = movielens[target_variable]"
   ]
  },
  {
   "cell_type": "code",
   "execution_count": null,
   "id": "ce67fee6",
   "metadata": {},
   "outputs": [],
   "source": [
    "# Used the mean to impute any missing values\n",
    "imputer = SimpleImputer(strategy='mean')\n",
    "X_imputed = imputer.fit_transform(X)\n"
   ]
  },
  {
   "cell_type": "code",
   "execution_count": null,
   "id": "4f337393",
   "metadata": {},
   "outputs": [],
   "source": [
    "# I then normalized the features\n",
    "scaler = StandardScaler()\n",
    "X_normalized = scaler.fit_transform(X_imputed)"
   ]
  },
  {
   "cell_type": "code",
   "execution_count": null,
   "id": "e6456bab",
   "metadata": {},
   "outputs": [],
   "source": [
    "# Split the dataset into training and test sets with the test size being 10% \n",
    "X_train, X_test, y_train, y_test = train_test_split(X_normalized, y, test_size=0.1, random_state=0)\n",
    "\n",
    "# Initialized the linear regression model\n",
    "linear_regression = LinearRegression()\n"
   ]
  },
  {
   "cell_type": "code",
   "execution_count": null,
   "id": "f4a39139",
   "metadata": {},
   "outputs": [],
   "source": [
    "# I then Fit the model on the training data\n",
    "linear_regression.fit(X_train, y_train)\n",
    "\n",
    "# Predicted on the test set\n",
    "y_pred = linear_regression.predict(X_test)\n"
   ]
  },
  {
   "cell_type": "code",
   "execution_count": null,
   "id": "68e1ce65",
   "metadata": {},
   "outputs": [],
   "source": [
    "# Calculate metrics\n",
    "rmse = np.sqrt(mean_squared_error(y_test, y_pred))\n",
    "rmse\n"
   ]
  },
  {
   "cell_type": "code",
   "execution_count": null,
   "id": "a65d8157",
   "metadata": {
    "scrolled": true
   },
   "outputs": [],
   "source": [
    "results= pd.DataFrame({'Actual': y_test, 'Predicted': y_pred})\n",
    "results"
   ]
  },
  {
   "cell_type": "code",
   "execution_count": null,
   "id": "ceb1f1df",
   "metadata": {},
   "outputs": [],
   "source": [
    "plt.figure(figsize=(8, 6))\n",
    "plt.scatter(y_test, y_pred, alpha=0.5)\n",
    "plt.plot([y_test.min(), y_test.max()],[y_test.min(),y_test.max()],'--')\n",
    "plt.xlabel('Original Ratings')\n",
    "plt.ylabel('Predicted Ratings')\n",
    "plt.title('Original vs Predicted Ratings')\n",
    "plt.show()"
   ]
  },
  {
   "cell_type": "code",
   "execution_count": null,
   "id": "05a61458",
   "metadata": {},
   "outputs": [],
   "source": []
  }
 ],
 "metadata": {
  "kernelspec": {
   "display_name": "Python 3 (ipykernel)",
   "language": "python",
   "name": "python3"
  },
  "language_info": {
   "codemirror_mode": {
    "name": "ipython",
    "version": 3
   },
   "file_extension": ".py",
   "mimetype": "text/x-python",
   "name": "python",
   "nbconvert_exporter": "python",
   "pygments_lexer": "ipython3",
   "version": "3.11.5"
  }
 },
 "nbformat": 4,
 "nbformat_minor": 5
}
